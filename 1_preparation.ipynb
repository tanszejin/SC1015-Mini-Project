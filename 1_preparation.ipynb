{
 "cells": [
  {
   "cell_type": "markdown",
   "metadata": {},
   "source": [
    "# MusicNet Dataset\n",
    "\n",
    "MusicNet is a collection of 330 freely-licensed classical music recordings, together with over 1 million annotated labels indicating the precise time of each note in every recording, the instrument that plays each note, and the note's position in the metrical structure of the composition.\n",
    "\n",
    "Kaggle: https://www.kaggle.com/datasets/imsparsh/musicnet-dataset\n",
    "\n",
    "In this project, we will only be using the solo recordings present in this dataset."
   ]
  },
  {
   "cell_type": "markdown",
   "metadata": {},
   "source": [
    "### Import Libaries"
   ]
  },
  {
   "cell_type": "code",
   "execution_count": null,
   "metadata": {},
   "outputs": [],
   "source": [
    "import shutil\n",
    "import os\n",
    "import pandas as pd"
   ]
  },
  {
   "cell_type": "markdown",
   "metadata": {},
   "source": [
    "## Extracting Solo Recordings\n",
    "\n",
    "Solo recordings have only 1 instrument playing in the recording. Only these recordings are used to prevent confusion recognising the instruments."
   ]
  },
  {
   "cell_type": "code",
   "execution_count": null,
   "metadata": {},
   "outputs": [],
   "source": [
    "# Load the dataset\n",
    "df = pd.read_csv('musicnet_metadata.csv')\n",
    "\n",
    "# Filter the DataFrame to include only rows where the 'ensemble' column\n",
    "# contains the word \"solo\" (the search is case-insensitive)\n",
    "solo_performances = df[df['ensemble'].str.contains('solo', case=False, na=False)]\n",
    "\n",
    "# Extract the 'id' column from the filtered DataFrame\n",
    "# These IDs correspond to solo performances\n",
    "solo_ids = solo_performances['id'].tolist()\n",
    "\n",
    "# Display the first few solo_ids for verification\n",
    "print(solo_ids[:10])"
   ]
  },
  {
   "cell_type": "code",
   "execution_count": null,
   "metadata": {},
   "outputs": [],
   "source": [
    "# Paths\n",
    "source_dir = 'MusicNet/musicnet/musicnet/test_data'\n",
    "destination_dir = 'solo_test_data'\n",
    "\n",
    "# Ensure the destination directory exists\n",
    "os.makedirs(destination_dir, exist_ok=True)\n",
    "\n",
    "# Copy the files\n",
    "for file_id in solo_ids:\n",
    "    file_name = f\"{file_id}.wav\"\n",
    "    source_path = os.path.join(source_dir, file_name)\n",
    "    destination_path = os.path.join(destination_dir, file_name)\n",
    "    \n",
    "    # Check if the source file exists before copying\n",
    "    if os.path.exists(source_path):\n",
    "        shutil.copy(source_path, destination_path)\n",
    "        print(f\"Copied {file_name}\")\n",
    "    else:\n",
    "        print(f\"File {file_name} not found in source directory.\")"
   ]
  },
  {
   "cell_type": "markdown",
   "metadata": {},
   "source": [
    "## Sort Extracted Files\n",
    "\n",
    "solo piano recordings will be transfered to 'solo_train_data/Piano', <br>\n",
    "solo violin recordings will be transfered to 'solo_train_data/Violin', etc."
   ]
  },
  {
   "cell_type": "markdown",
   "metadata": {},
   "source": [
    "### Function to sort the extracted files by instrument"
   ]
  },
  {
   "cell_type": "code",
   "execution_count": null,
   "metadata": {},
   "outputs": [],
   "source": [
    "def organize_files_by_ensemble(df, source_dir, base_destination_dir):\n",
    "    # Ensure the base destination directory exists\n",
    "    os.makedirs(base_destination_dir, exist_ok=True)\n",
    "\n",
    "    # Iterate through the DataFrame rows\n",
    "    for index, row in df.iterrows():\n",
    "        # Extract ensemble type and file id\n",
    "        ensemble_type = row['ensemble']\n",
    "        file_id = row['id']\n",
    "        \n",
    "        if 'solo' in ensemble_type.lower():  # This check is case-insensitive\n",
    "            # Determine the type of instrument/folder name from the ensemble type\n",
    "            folder_name = ensemble_type.split(\" \")[-1] # Takes the last word\n",
    "            \n",
    "            # Construct the source and destination paths\n",
    "            file_name = f\"{file_id}.wav\"\n",
    "            source_path = os.path.join(source_dir, file_name)\n",
    "            destination_dir = os.path.join(base_destination_dir, folder_name)\n",
    "            destination_path = os.path.join(destination_dir, file_name)\n",
    "            \n",
    "            # Create the destination folder if it doesn't exist\n",
    "            os.makedirs(destination_dir, exist_ok=True)\n",
    "            \n",
    "            # Move the file from source to destination\n",
    "            if os.path.exists(source_path):\n",
    "                shutil.move(source_path, destination_path)\n",
    "                print(f\"Moved {file_name} to {destination_dir}/\")\n",
    "            else:\n",
    "                print(f\"File {file_name} not found in source directory.\")\n",
    "                \n",
    "        else:\n",
    "            print(f\"Skipped {file_id}.wav as it does not contain 'solo' in the ensemble type.\")"
   ]
  },
  {
   "cell_type": "code",
   "execution_count": null,
   "metadata": {},
   "outputs": [],
   "source": [
    "source_dir = 'solo_train_data'\n",
    "base_destination_dir = 'solo_train_data'\n",
    "organize_files_by_ensemble(df, source_dir, base_destination_dir)"
   ]
  },
  {
   "cell_type": "code",
   "execution_count": null,
   "metadata": {},
   "outputs": [],
   "source": [
    "source_dir = 'solo_test_data'\n",
    "base_destination_dir = 'solo_test_data'\n",
    "organize_files_by_ensemble(df, source_dir, base_destination_dir)"
   ]
  },
  {
   "cell_type": "markdown",
   "metadata": {},
   "source": [
    "## Split Recordings into 1-Second Segments\n",
    "\n",
    "To allow for easier analysis and real-time predictions, the recordings are split into 1-second segments."
   ]
  },
  {
   "cell_type": "markdown",
   "metadata": {},
   "source": [
    "### Import necessary libraries"
   ]
  },
  {
   "cell_type": "code",
   "execution_count": null,
   "metadata": {},
   "outputs": [],
   "source": [
    "import torchaudio\n",
    "from pathlib import Path"
   ]
  },
  {
   "cell_type": "markdown",
   "metadata": {},
   "source": [
    "### Function to split a .wav audio file\n",
    "\n",
    "into 1-second segments and save it into its respective folders"
   ]
  },
  {
   "cell_type": "code",
   "execution_count": null,
   "metadata": {},
   "outputs": [],
   "source": [
    "def split_wav_file(file_path, output_dir):\n",
    "    # Load the audio file\n",
    "    waveform, sample_rate = torchaudio.load(file_path)\n",
    "    \n",
    "    # Calculate the number of samples to remove from start and end\n",
    "    start_trim_samples = 5 * sample_rate  # 5 seconds\n",
    "    end_trim_samples = waveform.shape[1] - (5 * sample_rate)  # Last 5 seconds\n",
    "    \n",
    "    # Trim the waveform\n",
    "    trimmed_waveform = waveform[:, start_trim_samples:end_trim_samples]\n",
    "    \n",
    "    # Calculate the number of 1-second segments\n",
    "    segment_length = sample_rate  # 1 second\n",
    "    num_segments = trimmed_waveform.shape[1] // segment_length\n",
    "    \n",
    "    # Split and save each segment\n",
    "    for i in range(num_segments):\n",
    "        start = i * segment_length\n",
    "        end = start + segment_length\n",
    "        segment = trimmed_waveform[:, start:end]\n",
    "        segment_file_path = f\"{output_dir}/{file_path.stem}_{i}.wav\"\n",
    "        torchaudio.save(segment_file_path, segment, sample_rate)\n",
    "\n",
    "    print(f\"Processed and saved {num_segments} segments for {file_path.name}\")"
   ]
  },
  {
   "cell_type": "markdown",
   "metadata": {},
   "source": [
    "### Function to visit a folder and iterate through its .wav files"
   ]
  },
  {
   "cell_type": "code",
   "execution_count": null,
   "metadata": {},
   "outputs": [],
   "source": [
    "def process_directory(input_directory, output_directory):\n",
    "    # Convert string paths to Path objects if they are not already\n",
    "    input_directory = Path(input_directory)\n",
    "    output_directory = Path(output_directory)\n",
    "    \n",
    "    # Create the output directory if it doesn't exist\n",
    "    output_directory.mkdir(parents=True, exist_ok=True)\n",
    "\n",
    "    # Iterate over all .wav files in the input directory\n",
    "    for file_path in input_directory.glob('*.wav'):\n",
    "        split_wav_file(file_path, output_directory)\n",
    "        print(f\"Processed {file_path} to {output_directory}\")"
   ]
  },
  {
   "cell_type": "markdown",
   "metadata": {},
   "source": [
    "### Split the audio!\n",
    "\n",
    "Flute will not be used from this point onwards as there is not test audio data for flute provided in the dataset."
   ]
  },
  {
   "cell_type": "code",
   "execution_count": null,
   "metadata": {},
   "outputs": [],
   "source": [
    "directory_pairs = [\n",
    "    (Path('Cello'), Path('split/Cello')),\n",
    "    # (Path('Flute'), Path('split/Flute')),\n",
    "    (Path('Piano'), Path('split/Piano')),\n",
    "    (Path('Violin'), Path('split/Violin')),\n",
    "]"
   ]
  },
  {
   "cell_type": "code",
   "execution_count": null,
   "metadata": {},
   "outputs": [],
   "source": [
    "for input_dir, output_dir in directory_pairs:\n",
    "    process_directory(os.path.join(\"solo_train_data\", input_dir), os.path.join(\"solo_train_data\", output_dir))\n",
    "    process_directory(os.path.join(\"solo_test_data\", input_dir), os.path.join(\"solo_test_data\", output_dir))"
   ]
  },
  {
   "cell_type": "markdown",
   "metadata": {},
   "source": [
    "## Deleting Excess Training Data\n",
    "\n",
    "To prevent overfitting of the models, excess files are deleted from folders that have too many files. Following the number of files violin has, the excess files are deleted from piano and cello at random."
   ]
  },
  {
   "cell_type": "code",
   "execution_count": null,
   "metadata": {},
   "outputs": [],
   "source": [
    "import random"
   ]
  },
  {
   "cell_type": "code",
   "execution_count": null,
   "metadata": {},
   "outputs": [],
   "source": [
    "def delete_random_wav_files(folder_path, num_files_to_delete):\n",
    "    # Get a list of all .wav files in the specified folder\n",
    "    wav_files = [file for file in os.listdir(folder_path) if file.endswith('.wav')]\n",
    "    \n",
    "    # Check if the number of files to delete is not more than the available files\n",
    "    if num_files_to_delete > len(wav_files):\n",
    "        print(f\"Requested number of files to delete ({num_files_to_delete}) exceeds the number of available .wav files ({len(wav_files)}).\")\n",
    "        return\n",
    "    \n",
    "    # Randomly select files to delete\n",
    "    files_to_delete = random.sample(wav_files, num_files_to_delete)\n",
    "    \n",
    "    # Delete the selected files\n",
    "    for file in files_to_delete:\n",
    "        file_path = os.path.join(folder_path, file)\n",
    "        os.remove(file_path)\n",
    "        print(f\"Deleted file: {file_path}\")"
   ]
  },
  {
   "cell_type": "markdown",
   "metadata": {},
   "source": [
    "##### check the number of files in each split folder"
   ]
  },
  {
   "cell_type": "code",
   "execution_count": null,
   "metadata": {},
   "outputs": [],
   "source": [
    "def count_files_in_directory(directory):\n",
    "    # Get a list of entries in the directory\n",
    "    entries = os.listdir(directory)\n",
    "\n",
    "    # Count how many of these entries are files\n",
    "    file_count = sum(1 for entry in entries if os.path.isfile(os.path.join(directory, entry)))\n",
    "    \n",
    "    return file_count"
   ]
  },
  {
   "cell_type": "code",
   "execution_count": null,
   "metadata": {},
   "outputs": [],
   "source": [
    "cello_split_directory = 'solo_train_data/split/Cello'\n",
    "piano_split_directory = 'solo_train_data/split/Piano'\n",
    "violin_split_directory = 'solo_train_data/split/Violin'\n",
    "\n",
    "print(f\"Cello:  {count_files_in_directory(cello_split_directory)} files in the directory.\")\n",
    "print(f\"Piano:  {count_files_in_directory(piano_split_directory)} files in the directory.\")\n",
    "print(f\"Violin: {count_files_in_directory(violin_split_directory)} files in the directory.\")"
   ]
  },
  {
   "cell_type": "markdown",
   "metadata": {},
   "source": [
    "##### Delete Files"
   ]
  },
  {
   "cell_type": "code",
   "execution_count": null,
   "metadata": {},
   "outputs": [],
   "source": [
    "# Piano\n",
    "num_files_to_delete = 51474\n",
    "delete_random_wav_files(piano_split_directory, num_files_to_delete)"
   ]
  },
  {
   "cell_type": "code",
   "execution_count": null,
   "metadata": {},
   "outputs": [],
   "source": [
    "# Cello\n",
    "num_files_to_delete = 1105\n",
    "delete_random_wav_files(cello_split_directory, num_files_to_delete)"
   ]
  },
  {
   "cell_type": "markdown",
   "metadata": {},
   "source": [
    "##### Check the number of files"
   ]
  },
  {
   "cell_type": "code",
   "execution_count": null,
   "metadata": {},
   "outputs": [],
   "source": [
    "print(f\"Cello:  {count_files_in_directory(cello_split_directory)} files in the directory.\")\n",
    "print(f\"Piano:  {count_files_in_directory(piano_split_directory)} files in the directory.\")\n",
    "print(f\"Violin: {count_files_in_directory(violin_split_directory)} files in the directory.\")"
   ]
  }
 ],
 "metadata": {
  "kernelspec": {
   "display_name": "Python 3",
   "language": "python",
   "name": "python3"
  },
  "language_info": {
   "codemirror_mode": {
    "name": "ipython",
    "version": 3
   },
   "file_extension": ".py",
   "mimetype": "text/x-python",
   "name": "python",
   "nbconvert_exporter": "python",
   "pygments_lexer": "ipython3",
   "version": "3.9.7"
  }
 },
 "nbformat": 4,
 "nbformat_minor": 2
}
