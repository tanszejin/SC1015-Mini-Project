{
 "cells": [
  {
   "cell_type": "markdown",
   "id": "46ae4c06",
   "metadata": {},
   "source": [
    "# Random Forest"
   ]
  },
  {
   "cell_type": "markdown",
   "id": "b0632c34",
   "metadata": {},
   "source": [
    "Random Forest has the benefit of using an array of decision, which individually consider various subsets of features and samples of the data. The aggregation of diverse trees often leads to more robust and accurate predictions than a single decision tree."
   ]
  },
  {
   "cell_type": "markdown",
   "id": "52f06b79",
   "metadata": {},
   "source": [
    "---"
   ]
  },
  {
   "cell_type": "markdown",
   "id": "1916974d",
   "metadata": {},
   "source": [
    "### Essential Libraries\n",
    "\n",
    "We will first import the essential Python Libraries.  \n",
    "\n",
    "> `NumPy` : Library for Numeric Computations in Python  \n",
    "> `Pandas` : Library for Data Acquisition and Preparation  \n",
    "> `Seaborn` : Higher-level library for Data Visualization  \n",
    "> `Matplotlib` : Low-level library for Data Visualization  \n",
    "> `Librosa` : Library for audio and music analysis, provides tools for music and audio processing, such as loading audio files, extracting features, manipulating audio signals, and more   \n",
    "> `os` : Module that provides a way of using operating system dependent functionality, like reading or writing to the file system, managing paths, etc <br>\n",
    "> `sklearn` : Library for supervised and unsupervised learning algorithms, model fitting, data preprocessing, model selection, and evaluation in Python "
   ]
  },
  {
   "cell_type": "code",
   "execution_count": 2,
   "id": "1cea11b1",
   "metadata": {},
   "outputs": [],
   "source": [
    "import os\n",
    "import numpy as np\n",
    "import pandas as pd\n",
    "from sklearn.ensemble import RandomForestClassifier\n",
    "from sklearn.model_selection import train_test_split\n",
    "from sklearn.metrics import classification_report, accuracy_score\n",
    "from sklearn.preprocessing import StandardScaler\n",
    "import librosa\n",
    "import time\n",
    "import seaborn as sns\n",
    "import matplotlib.pyplot as plt\n",
    "from sklearn.metrics import confusion_matrix"
   ]
  },
  {
   "cell_type": "markdown",
   "id": "96fceab7",
   "metadata": {},
   "source": [
    "### Import the audio data"
   ]
  },
  {
   "cell_type": "markdown",
   "id": "fadb56fb",
   "metadata": {},
   "source": [
    "This function is used to extract features from an audio file."
   ]
  },
  {
   "cell_type": "code",
   "execution_count": 3,
   "id": "8df313c4",
   "metadata": {},
   "outputs": [],
   "source": [
    "def extract_features(file_path):\n",
    "    try:\n",
    "        audio, sample_rate = librosa.load(file_path, sr=None, res_type='kaiser_fast')\n",
    "        mfccs = librosa.feature.mfcc(y=audio, sr=sample_rate, n_mfcc=40, hop_length=int(sample_rate*0.01), n_fft=int(sample_rate*0.02))\n",
    "        if mfccs.shape[1] < 44:  # Assuming at least 44 frames for 1 second of audio\n",
    "            mfccs = np.pad(mfccs, ((0, 0), (0, 44 - mfccs.shape[1])), mode='constant', constant_values=(0, 0))\n",
    "        mfccs_processed = np.mean(mfccs.T, axis=0)\n",
    "    except Exception as e:\n",
    "        print(f\"Error encountered while parsing file: {file_path}, error: {e}\")\n",
    "        return None\n",
    "    return mfccs_processed"
   ]
  },
  {
   "cell_type": "code",
   "execution_count": 4,
   "id": "1d6f46a8",
   "metadata": {},
   "outputs": [],
   "source": [
    "train_audio_dirs = {\n",
    "    'Cello': 'split/Cello',  \n",
    "    'Piano': 'split/Piano', \n",
    "    'Violin': 'split/Violin' \n",
    "}"
   ]
  },
  {
   "cell_type": "code",
   "execution_count": 5,
   "id": "58a5c882",
   "metadata": {},
   "outputs": [],
   "source": [
    "features = []\n",
    "labels = []"
   ]
  },
  {
   "cell_type": "code",
   "execution_count": 6,
   "id": "dee15f01",
   "metadata": {},
   "outputs": [],
   "source": [
    "for instrument, directory in train_audio_dirs.items():\n",
    "    for filename in os.listdir(directory):\n",
    "        if filename.endswith('.wav'):\n",
    "            file_path = os.path.join(directory, filename)\n",
    "            data = extract_features(file_path)\n",
    "\n",
    "            if data is not None:\n",
    "                features.append(data)\n",
    "                labels.append(instrument)"
   ]
  },
  {
   "cell_type": "markdown",
   "id": "160d0026",
   "metadata": {},
   "source": [
    "The features and labels are converted into NumPy arrays and the feature dataset is normalized"
   ]
  },
  {
   "cell_type": "code",
   "execution_count": 7,
   "id": "97df0b0d",
   "metadata": {},
   "outputs": [],
   "source": [
    "X = np.array(features)\n",
    "y = np.array(labels)\n",
    "\n",
    "scaler = StandardScaler()\n",
    "X = scaler.fit_transform(X)"
   ]
  },
  {
   "cell_type": "markdown",
   "id": "66e45b0b",
   "metadata": {},
   "source": [
    "### Random Forest"
   ]
  },
  {
   "cell_type": "markdown",
   "id": "8138f6b6",
   "metadata": {},
   "source": [
    "This is where the random forest classifier is being initialised."
   ]
  },
  {
   "cell_type": "code",
   "execution_count": 8,
   "id": "bdbc5b2a",
   "metadata": {},
   "outputs": [],
   "source": [
    "rf_classifier = RandomForestClassifier(n_estimators=100, random_state=42)"
   ]
  },
  {
   "cell_type": "markdown",
   "id": "8fd2b787",
   "metadata": {},
   "source": [
    "The dataset is split into its train and test sets"
   ]
  },
  {
   "cell_type": "code",
   "execution_count": 9,
   "id": "4fa38ba3",
   "metadata": {},
   "outputs": [],
   "source": [
    "X_train, X_test, y_train, y_test = train_test_split(X, y, test_size=0.3, random_state=42)"
   ]
  },
  {
   "cell_type": "markdown",
   "id": "8cdfbf3c",
   "metadata": {},
   "source": [
    "The classifier is then trained on the train set"
   ]
  },
  {
   "cell_type": "code",
   "execution_count": 10,
   "id": "59bfe96c",
   "metadata": {},
   "outputs": [
    {
     "data": {
      "text/plain": [
       "RandomForestClassifier(random_state=42)"
      ]
     },
     "execution_count": 10,
     "metadata": {},
     "output_type": "execute_result"
    }
   ],
   "source": [
    "rf_classifier.fit(X_train, y_train)"
   ]
  },
  {
   "cell_type": "code",
   "execution_count": 11,
   "id": "dc0d2fdf",
   "metadata": {},
   "outputs": [
    {
     "data": {
      "text/plain": [
       "57520"
      ]
     },
     "execution_count": 11,
     "metadata": {},
     "output_type": "execute_result"
    }
   ],
   "source": [
    "X_test.size"
   ]
  },
  {
   "cell_type": "code",
   "execution_count": 12,
   "id": "599414a8",
   "metadata": {},
   "outputs": [],
   "source": [
    "y_pred = rf_classifier.predict(X_test)"
   ]
  },
  {
   "cell_type": "markdown",
   "id": "20656b4c",
   "metadata": {},
   "source": [
    "### Random Forest Evaluation"
   ]
  },
  {
   "cell_type": "markdown",
   "id": "b6d31d2b",
   "metadata": {},
   "source": [
    "The classifier is evaluated"
   ]
  },
  {
   "cell_type": "code",
   "execution_count": 13,
   "id": "90205bb1",
   "metadata": {},
   "outputs": [
    {
     "name": "stdout",
     "output_type": "stream",
     "text": [
      "              precision    recall  f1-score   support\n",
      "\n",
      "       Cello       1.00      0.99      1.00       500\n",
      "       Piano       1.00      1.00      1.00       455\n",
      "      Violin       0.99      1.00      1.00       483\n",
      "\n",
      "    accuracy                           1.00      1438\n",
      "   macro avg       1.00      1.00      1.00      1438\n",
      "weighted avg       1.00      1.00      1.00      1438\n",
      "\n",
      "Accuracy: 0.9965229485396384\n"
     ]
    }
   ],
   "source": [
    "print(classification_report(y_test, y_pred))\n",
    "print(f\"Accuracy: {accuracy_score(y_test, y_pred)}\")"
   ]
  },
  {
   "cell_type": "markdown",
   "id": "35516468",
   "metadata": {},
   "source": [
    "The results from the test set are shown below using a confusion matrix and a heatmap"
   ]
  },
  {
   "cell_type": "code",
   "execution_count": 14,
   "id": "7fcef311",
   "metadata": {},
   "outputs": [
    {
     "data": {
      "image/png": "[encoded data removed]",
      "text/plain": [
       "<Figure size 720x504 with 2 Axes>"
      ]
     },
     "metadata": {
      "needs_background": "light"
     },
     "output_type": "display_data"
    }
   ],
   "source": [
    "conf_mat = confusion_matrix(y_test, y_pred)\n",
    "\n",
    "conf_mat_df = pd.DataFrame(conf_mat, index=train_audio_dirs.keys(), columns=train_audio_dirs.keys())\n",
    "\n",
    "plt.figure(figsize=(10, 7))\n",
    "sns.heatmap(conf_mat_df, annot=True, cmap='Blues', fmt='g')\n",
    "plt.title('Confusion Matrix')\n",
    "plt.ylabel('True Label')\n",
    "plt.xlabel('Predicted Label')\n",
    "plt.show()"
   ]
  },
  {
   "cell_type": "markdown",
   "id": "12aad0af",
   "metadata": {},
   "source": [
    "Cello accuracy rate = 99.2% <br>\n",
    "Piano accuracy rate = 99.1%<br>\n",
    "Violen accuracy rate = 100%<br>"
   ]
  }
 ],
 "metadata": {
  "kernelspec": {
   "display_name": "Python 3 (ipykernel)",
   "language": "python",
   "name": "python3"
  },
  "language_info": {
   "codemirror_mode": {
    "name": "ipython",
    "version": 3
   },
   "file_extension": ".py",
   "mimetype": "text/x-python",
   "name": "python",
   "nbconvert_exporter": "python",
   "pygments_lexer": "ipython3",
   "version": "3.9.12"
  }
 },
 "nbformat": 4,
 "nbformat_minor": 5
}
